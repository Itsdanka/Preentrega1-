{
  "nbformat": 4,
  "nbformat_minor": 0,
  "metadata": {
    "colab": {
      "provenance": [],
      "mount_file_id": "1Ln6quzTebFPHw8hzAD31Ei9x-ojPmFiD",
      "authorship_tag": "ABX9TyPJq+3j/T/obxhwViV7xQfU",
      "include_colab_link": true
    },
    "kernelspec": {
      "name": "python3",
      "display_name": "Python 3"
    },
    "language_info": {
      "name": "python"
    }
  },
  "cells": [
    {
      "cell_type": "markdown",
      "metadata": {
        "id": "view-in-github",
        "colab_type": "text"
      },
      "source": [
        "<a href=\"https://colab.research.google.com/github/Itsdanka/Preentrega1-/blob/main/Visualizacion_Santoni_Macarena.ipynb\" target=\"_parent\"><img src=\"https://colab.research.google.com/assets/colab-badge.svg\" alt=\"Open In Colab\"/></a>"
      ]
    },
    {
      "cell_type": "markdown",
      "source": [
        "**#PRIMERA ENTREGA**\n",
        "\n",
        "Este estudio presenta un análisis de un conjunto de datos que registra información detallada sobre vuelos, incluyendo la fecha de salida, clasificación del vuelo (cabotaje o internacional), aerolínea, aeropuertos y localidades de origen y destino, y la cantidad de pasajeros y asientos por vuelo. El dataset abarca una variedad de rutas nacionales e internacionales, proporcionando una visión amplia sobre la conectividad aérea de Argentina.\n",
        "\n",
        "Las variables incluidas permiten evaluar patrones de tráfico aéreo a nivel anual, analizando la cantidad de vuelos operados, la distribución de pasajeros, y la capacidad de asientos disponible en cada vuelo. También se recopila información geográfica detallada sobre el origen y destino, lo que facilita el análisis de la conectividad entre distintas localidades, provincias y países, así como la concentración de vuelos por aerolínea y aeropuerto.\n",
        "\n",
        "________________________________________\n",
        "*Hipótesis*\n",
        "• ¿Cuales son los aeropuertos con mas frecuencias de viaje?\n",
        "• ¿Cuales son los aeropuertos con menos frecuencias de viaje?\n",
        "• ¿En que año hubo más frecuencias de vuelo?\n",
        "• ¿Cual es el continente con más vuelos a destino?\n",
        "• ¿Cual es la clasificacion mas utilizada en vuelos?"
      ],
      "metadata": {
        "id": "gbBNOaMlKtVH"
      }
    },
    {
      "cell_type": "code",
      "source": [
        "!python --version"
      ],
      "metadata": {
        "colab": {
          "base_uri": "https://localhost:8080/"
        },
        "id": "qrsK8mv3yrAH",
        "outputId": "8c9dd13a-021a-42a0-ba55-9294d7409f37"
      },
      "execution_count": null,
      "outputs": [
        {
          "output_type": "stream",
          "name": "stdout",
          "text": [
            "Python 3.10.12\n"
          ]
        }
      ]
    },
    {
      "cell_type": "code",
      "source": [
        "# importar librerias\n",
        "import pandas as pd\n",
        "import numpy as np\n",
        "import xlrd\n",
        "import matplotlib as mpl\n",
        "import matplotlib.pyplot as plt\n",
        "import seaborn as sb\n",
        "\n",
        "from google.colab import files\n",
        "import io"
      ],
      "metadata": {
        "id": "KdepF2nX-cs9"
      },
      "execution_count": 1,
      "outputs": []
    },
    {
      "cell_type": "code",
      "source": [
        "from google.colab import files"
      ],
      "metadata": {
        "id": "GtdP6aaA-m3g"
      },
      "execution_count": 2,
      "outputs": []
    },
    {
      "cell_type": "code",
      "source": [
        "from google.colab import drive\n",
        "drive.mount('/content/drive')"
      ],
      "metadata": {
        "id": "ZKioFALU-uIK",
        "colab": {
          "base_uri": "https://localhost:8080/"
        },
        "outputId": "c681ae4b-d355-4152-8d98-9c5a3789ae14"
      },
      "execution_count": 3,
      "outputs": [
        {
          "output_type": "stream",
          "name": "stdout",
          "text": [
            "Drive already mounted at /content/drive; to attempt to forcibly remount, call drive.mount(\"/content/drive\", force_remount=True).\n"
          ]
        }
      ]
    },
    {
      "cell_type": "code",
      "source": [
        "import pandas as pd\n",
        "df = pd.read_excel(\"/content/drive/MyDrive/Colab/dbvuelos.xltx\")\n",
        "df.shape"
      ],
      "metadata": {
        "id": "w7rooTiy_OrJ",
        "colab": {
          "base_uri": "https://localhost:8080/"
        },
        "outputId": "75cf86f3-8318-4fd4-976d-5f3b19b5f449"
      },
      "execution_count": 4,
      "outputs": [
        {
          "output_type": "execute_result",
          "data": {
            "text/plain": [
              "(832883, 21)"
            ]
          },
          "metadata": {},
          "execution_count": 4
        }
      ]
    },
    {
      "cell_type": "code",
      "source": [
        "file_path=\"/content/drive/MyDrive/Colab/dbvuelos.xltx\"\n",
        "\n",
        "df = pd.read_excel(file_path)\n",
        "\n",
        "df.head()\n"
      ],
      "metadata": {
        "id": "PPgJQo5Vw8Ik"
      },
      "execution_count": null,
      "outputs": []
    },
    {
      "cell_type": "code",
      "source": [
        "dbvuelos_df = pd.read_excel(file_path)\n"
      ],
      "metadata": {
        "id": "kjhcu_EY0feY"
      },
      "execution_count": null,
      "outputs": []
    },
    {
      "cell_type": "code",
      "source": [
        "df.info()"
      ],
      "metadata": {
        "id": "af3NMsRs2q0F"
      },
      "execution_count": null,
      "outputs": []
    },
    {
      "cell_type": "code",
      "source": [
        "\n",
        "print(\"\\nValores nulos en el conjunto de datos:\")\n",
        "print(dbvuelos_df.isnull().sum())\n"
      ],
      "metadata": {
        "id": "7a4QiTQk2BBZ"
      },
      "execution_count": null,
      "outputs": []
    },
    {
      "cell_type": "code",
      "source": [
        "rows_with_nan = df[df['origen_provincia'].isna()]\n",
        "print(rows_with_nan)\n",
        "\n",
        "rows_with_nan = df[df['destino_provincia'].isna()]\n",
        "print(rows_with_nan)"
      ],
      "metadata": {
        "id": "4TXc62Kf3CuF"
      },
      "execution_count": null,
      "outputs": []
    },
    {
      "cell_type": "code",
      "source": [
        "print(df.loc[175])\n",
        "print(df.loc[176])"
      ],
      "metadata": {
        "id": "R03I0oSS3rYk"
      },
      "execution_count": null,
      "outputs": []
    },
    {
      "cell_type": "code",
      "source": [
        "df.describe().round(1)"
      ],
      "metadata": {
        "id": "ycn5iefT0Xba"
      },
      "execution_count": null,
      "outputs": []
    },
    {
      "cell_type": "code",
      "source": [
        "df.dtypes\n",
        "print ('\\nLos datos son de tipo:\\n',df.dtypes)"
      ],
      "metadata": {
        "id": "drUiXrBiBHm_"
      },
      "execution_count": null,
      "outputs": []
    },
    {
      "cell_type": "code",
      "source": [
        "mpl.style.use('ggplot')"
      ],
      "metadata": {
        "id": "CeCtJtE64InC"
      },
      "execution_count": null,
      "outputs": []
    },
    {
      "cell_type": "code",
      "source": [
        "print(df['indice_tiempo'].mean())\n",
        "print(df['indice_tiempo'].median())"
      ],
      "metadata": {
        "id": "goTI5zQU5AkO"
      },
      "execution_count": null,
      "outputs": []
    },
    {
      "cell_type": "code",
      "source": [
        "df.origen_aeropuerto.value_counts()"
      ],
      "metadata": {
        "id": "5PKjJcPp65KN"
      },
      "execution_count": null,
      "outputs": []
    },
    {
      "cell_type": "code",
      "source": [
        "df_n=df[['vuelos','destino_continente', 'origen_pais']].groupby(by=['vuelos','destino_continente']).count()\n",
        "df_n"
      ],
      "metadata": {
        "id": "FbS0FAQH7D-x"
      },
      "execution_count": null,
      "outputs": []
    },
    {
      "cell_type": "code",
      "source": [
        "import seaborn as sns\n",
        "plt.figure(figsize=(10,6))\n",
        "sns.barplot(y='vuelos',x='destino_continente',hue='origen_pais',data=df_n);\n",
        "plt.xticks(rotation=80)"
      ],
      "metadata": {
        "id": "Wi3eRHh88agZ"
      },
      "execution_count": null,
      "outputs": []
    },
    {
      "cell_type": "code",
      "source": [
        "df['indice_tiempo'].hist(bins=1000)"
      ],
      "metadata": {
        "id": "FHFee-le5xM1"
      },
      "execution_count": null,
      "outputs": []
    },
    {
      "cell_type": "code",
      "source": [
        "plt.figure(figsize=(10, 6))\n",
        "sns.boxplot(x='vuelos', y='aerolinea', data=dbvuelos_df)\n",
        "plt.title('Promedio de vuelos por aerolinea')\n",
        "plt.xlabel('Vuelos')\n",
        "plt.ylabel('Aerolinea')\n",
        "plt.xticks(rotation=35)\n",
        "plt.show()\n",
        "\n"
      ],
      "metadata": {
        "id": "HNckIs63_XkD"
      },
      "execution_count": null,
      "outputs": []
    },
    {
      "cell_type": "code",
      "source": [
        "data_2=dbvuelos_df.groupby('clasificacion_vuelo')[['vuelos']].count()\n",
        "data_2"
      ],
      "metadata": {
        "id": "Is2Yqb_zGPMx"
      },
      "execution_count": null,
      "outputs": []
    },
    {
      "cell_type": "code",
      "source": [
        "data_2.index"
      ],
      "metadata": {
        "id": "1WGqsexKGqK9"
      },
      "execution_count": null,
      "outputs": []
    },
    {
      "cell_type": "code",
      "source": [
        "fig,ax = plt.subplots(figsize =(5, 5))\n",
        "ax.pie(data_2.vuelos,autopct='%1.1f%%', pctdistance = 1.1)\n",
        "plt.legend(loc=\"lower left\",labels=data_2.index,fontsize=10)\n",
        "ax.set_title('Piechart de clasificacion de vuelos')"
      ],
      "metadata": {
        "id": "TvDpgLqSGwVr"
      },
      "execution_count": null,
      "outputs": []
    }
  ]
}